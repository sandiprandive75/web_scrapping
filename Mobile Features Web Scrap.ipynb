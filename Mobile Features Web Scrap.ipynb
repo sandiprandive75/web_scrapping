{
 "cells": [
  {
   "cell_type": "code",
   "execution_count": 88,
   "id": "ac839820",
   "metadata": {},
   "outputs": [],
   "source": [
    "from bs4 import BeautifulSoup\n",
    "import pandas as pd\n",
    "import numpy as np\n",
    "import lxml\n",
    "import csv\n",
    "import requests"
   ]
  },
  {
   "cell_type": "code",
   "execution_count": 89,
   "id": "ae29ac6f",
   "metadata": {},
   "outputs": [],
   "source": [
    "url = 'https://www.mi.com/in/redmi-9i/specs/'\n",
    "source = requests.get(url).text\n",
    "#print(source)\n",
    "soup = BeautifulSoup(source, 'lxml')\n",
    "#print(soup)"
   ]
  },
  {
   "cell_type": "code",
   "execution_count": 90,
   "id": "4870cfd0",
   "metadata": {},
   "outputs": [],
   "source": [
    "main = soup.find('div', class_='main')\n",
    "#print(main)"
   ]
  },
  {
   "cell_type": "code",
   "execution_count": 91,
   "id": "6bc5da6d",
   "metadata": {},
   "outputs": [],
   "source": [
    "try:\n",
    "    model_name = main.h1.span.text\n",
    "except Exception as e:\n",
    "    model_name = None"
   ]
  },
  {
   "cell_type": "code",
   "execution_count": 92,
   "id": "e781b454",
   "metadata": {},
   "outputs": [],
   "source": [
    "try:\n",
    "    feature = soup.find('div', class_='specs-items').text\n",
    "except Exception as e:\n",
    "    feature = None\n",
    "#print(feature)"
   ]
  },
  {
   "cell_type": "code",
   "execution_count": 94,
   "id": "49811575",
   "metadata": {},
   "outputs": [],
   "source": [
    "try:\n",
    "    display = soup.find('section', class_='section section-03')\n",
    "    display_feature = display.find('div', class_='specs-items').text\n",
    "except Exception as e:\n",
    "    display_feature = None\n",
    "#print(display_feature)"
   ]
  },
  {
   "cell_type": "code",
   "execution_count": null,
   "id": "6d55a2f0",
   "metadata": {
    "scrolled": true
   },
   "outputs": [],
   "source": [
    "battery = soup.find('section', class_='section section-04')\n",
    "battery_feature = battery.find('div', class_='specs-items').text\n",
    "print(battery_feature)"
   ]
  },
  {
   "cell_type": "code",
   "execution_count": null,
   "id": "97d92dbc",
   "metadata": {},
   "outputs": [],
   "source": [
    "camera = soup.find('section', class_='section section-05')\n",
    "camera_feature = camera.find('div', class_='specs-items').text.replace(' ', '')\n",
    "print(camera_feature)"
   ]
  },
  {
   "cell_type": "code",
   "execution_count": null,
   "id": "9a8830e1",
   "metadata": {},
   "outputs": [],
   "source": [
    "RAM = soup.find('section', class_='section section-06')\n",
    "RAM_feature = RAM.find('div', class_='specs-items').text\n",
    "print(RAM_feature)"
   ]
  },
  {
   "cell_type": "code",
   "execution_count": null,
   "id": "d904f34a",
   "metadata": {},
   "outputs": [],
   "source": [
    "net = soup.find('section', class_='section section-07')\n",
    "network = net.find('div', class_='specs-items').text\n",
    "print(network)"
   ]
  },
  {
   "cell_type": "code",
   "execution_count": null,
   "id": "7d272c13",
   "metadata": {},
   "outputs": [],
   "source": [
    "dim = soup.find('section', class_='section section-08')\n",
    "dimensions = dim.find('div', class_='specs-items').text\n",
    "print(dimensions)"
   ]
  },
  {
   "cell_type": "code",
   "execution_count": null,
   "id": "e016a02f",
   "metadata": {},
   "outputs": [],
   "source": [
    "lock = soup.find('section', class_='section section-09')\n",
    "unlock = lock.find('div', class_='specs-items').text\n",
    "print(unlock)"
   ]
  },
  {
   "cell_type": "code",
   "execution_count": null,
   "id": "5a1dd1de",
   "metadata": {},
   "outputs": [],
   "source": [
    "navi = soup.find('section', class_='section section-10')\n",
    "navigations = navi.find('div', class_='specs-items').text\n",
    "print(navigations)"
   ]
  },
  {
   "cell_type": "code",
   "execution_count": null,
   "id": "a986e8ae",
   "metadata": {},
   "outputs": [],
   "source": [
    "sence = soup.find('section', class_='section section-11')\n",
    "sensors = sence.find('div', class_='specs-items').text\n",
    "print(sensors)"
   ]
  },
  {
   "cell_type": "code",
   "execution_count": null,
   "id": "3dbd1d97",
   "metadata": {},
   "outputs": [],
   "source": [
    "multi = soup.find('section', class_='section section-12')\n",
    "multimedia = multi.find('div', class_='specs-items').text\n",
    "print(multimedia)"
   ]
  },
  {
   "cell_type": "code",
   "execution_count": null,
   "id": "388baaa8",
   "metadata": {},
   "outputs": [],
   "source": [
    "pack = soup.find('section', class_='section section-14')\n",
    "package = pack.find('div', class_='specs-items').text\n",
    "print(package)"
   ]
  },
  {
   "cell_type": "markdown",
   "id": "2b313fa0",
   "metadata": {},
   "source": [
    "## Save into csv file"
   ]
  },
  {
   "cell_type": "code",
   "execution_count": null,
   "id": "66a2eb3a",
   "metadata": {},
   "outputs": [],
   "source": [
    "csv_file = open('C:\\\\Users\\\\DELL\\\\Desktop\\\\SHMT\\\\WebScrapping\\\\mi_mobile_features.csv', 'a', encoding='utf-8')\n",
    "csv_writer = csv.writer(csv_file)\n",
    "#csv_writer.writerow(['model_name','battery_feature', 'camera_feature','RAM_feature', 'dimensions','display_feature','feature','package','navigations','sensors','multimedia','unlock','network'])\n",
    "\n",
    "csv_writer.writerow([model_name, battery_feature, camera_feature, RAM_feature, dimensions, display_feature, feature, package, navigations, sensors, multimedia, unlock, network])\n",
    "csv_file.close()\n",
    "\n"
   ]
  },
  {
   "cell_type": "code",
   "execution_count": null,
   "id": "0a63fa76",
   "metadata": {},
   "outputs": [],
   "source": []
  },
  {
   "cell_type": "code",
   "execution_count": null,
   "id": "68656183",
   "metadata": {},
   "outputs": [],
   "source": []
  }
 ],
 "metadata": {
  "kernelspec": {
   "display_name": "Python 3",
   "language": "python",
   "name": "python3"
  },
  "language_info": {
   "codemirror_mode": {
    "name": "ipython",
    "version": 3
   },
   "file_extension": ".py",
   "mimetype": "text/x-python",
   "name": "python",
   "nbconvert_exporter": "python",
   "pygments_lexer": "ipython3",
   "version": "3.8.8"
  }
 },
 "nbformat": 4,
 "nbformat_minor": 5
}
